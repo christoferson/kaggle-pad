{
 "cells": [
  {
   "cell_type": "code",
   "execution_count": 2,
   "metadata": {
    "scrolled": true
   },
   "outputs": [],
   "source": [
    "import numpy as np\n",
    "import pandas as pd\n",
    "import matplotlib.pyplot as plt\n",
    "import seaborn as sns\n",
    "from sklearn.model_selection import train_test_split\n",
    "from sklearn.metrics import mean_squared_error\n",
    "from sklearn.preprocessing import OneHotEncoder\n",
    "from sklearn.preprocessing import LabelEncoder, StandardScaler\n",
    "from sklearn.impute import SimpleImputer\n",
    "import datetime\n",
    "from datetime import datetime"
   ]
  },
  {
   "cell_type": "code",
   "execution_count": 3,
   "metadata": {},
   "outputs": [],
   "source": [
    "# Get current date in YYYY-MM-DD format\n",
    "current_date = datetime.now().strftime('%Y-%m-%d')"
   ]
  },
  {
   "cell_type": "code",
   "execution_count": 4,
   "metadata": {
    "scrolled": true
   },
   "outputs": [],
   "source": [
    "df_train = pd.read_csv('data/train.csv')\n",
    "df_test = pd.read_csv('data/test.csv')"
   ]
  },
  {
   "cell_type": "code",
   "execution_count": 5,
   "metadata": {},
   "outputs": [
    {
     "data": {
      "text/html": [
       "<div>\n",
       "<style scoped>\n",
       "    .dataframe tbody tr th:only-of-type {\n",
       "        vertical-align: middle;\n",
       "    }\n",
       "\n",
       "    .dataframe tbody tr th {\n",
       "        vertical-align: top;\n",
       "    }\n",
       "\n",
       "    .dataframe thead th {\n",
       "        text-align: right;\n",
       "    }\n",
       "</style>\n",
       "<table border=\"1\" class=\"dataframe\">\n",
       "  <thead>\n",
       "    <tr style=\"text-align: right;\">\n",
       "      <th></th>\n",
       "      <th>PassengerId</th>\n",
       "      <th>HomePlanet</th>\n",
       "      <th>CryoSleep</th>\n",
       "      <th>Cabin</th>\n",
       "      <th>Destination</th>\n",
       "      <th>Age</th>\n",
       "      <th>VIP</th>\n",
       "      <th>RoomService</th>\n",
       "      <th>FoodCourt</th>\n",
       "      <th>ShoppingMall</th>\n",
       "      <th>Spa</th>\n",
       "      <th>VRDeck</th>\n",
       "      <th>Name</th>\n",
       "      <th>Transported</th>\n",
       "    </tr>\n",
       "  </thead>\n",
       "  <tbody>\n",
       "    <tr>\n",
       "      <th>0</th>\n",
       "      <td>0001_01</td>\n",
       "      <td>Europa</td>\n",
       "      <td>False</td>\n",
       "      <td>B/0/P</td>\n",
       "      <td>TRAPPIST-1e</td>\n",
       "      <td>39.0</td>\n",
       "      <td>False</td>\n",
       "      <td>0.0</td>\n",
       "      <td>0.0</td>\n",
       "      <td>0.0</td>\n",
       "      <td>0.0</td>\n",
       "      <td>0.0</td>\n",
       "      <td>Maham Ofracculy</td>\n",
       "      <td>False</td>\n",
       "    </tr>\n",
       "    <tr>\n",
       "      <th>1</th>\n",
       "      <td>0002_01</td>\n",
       "      <td>Earth</td>\n",
       "      <td>False</td>\n",
       "      <td>F/0/S</td>\n",
       "      <td>TRAPPIST-1e</td>\n",
       "      <td>24.0</td>\n",
       "      <td>False</td>\n",
       "      <td>109.0</td>\n",
       "      <td>9.0</td>\n",
       "      <td>25.0</td>\n",
       "      <td>549.0</td>\n",
       "      <td>44.0</td>\n",
       "      <td>Juanna Vines</td>\n",
       "      <td>True</td>\n",
       "    </tr>\n",
       "    <tr>\n",
       "      <th>2</th>\n",
       "      <td>0003_01</td>\n",
       "      <td>Europa</td>\n",
       "      <td>False</td>\n",
       "      <td>A/0/S</td>\n",
       "      <td>TRAPPIST-1e</td>\n",
       "      <td>58.0</td>\n",
       "      <td>True</td>\n",
       "      <td>43.0</td>\n",
       "      <td>3576.0</td>\n",
       "      <td>0.0</td>\n",
       "      <td>6715.0</td>\n",
       "      <td>49.0</td>\n",
       "      <td>Altark Susent</td>\n",
       "      <td>False</td>\n",
       "    </tr>\n",
       "    <tr>\n",
       "      <th>3</th>\n",
       "      <td>0003_02</td>\n",
       "      <td>Europa</td>\n",
       "      <td>False</td>\n",
       "      <td>A/0/S</td>\n",
       "      <td>TRAPPIST-1e</td>\n",
       "      <td>33.0</td>\n",
       "      <td>False</td>\n",
       "      <td>0.0</td>\n",
       "      <td>1283.0</td>\n",
       "      <td>371.0</td>\n",
       "      <td>3329.0</td>\n",
       "      <td>193.0</td>\n",
       "      <td>Solam Susent</td>\n",
       "      <td>False</td>\n",
       "    </tr>\n",
       "    <tr>\n",
       "      <th>4</th>\n",
       "      <td>0004_01</td>\n",
       "      <td>Earth</td>\n",
       "      <td>False</td>\n",
       "      <td>F/1/S</td>\n",
       "      <td>TRAPPIST-1e</td>\n",
       "      <td>16.0</td>\n",
       "      <td>False</td>\n",
       "      <td>303.0</td>\n",
       "      <td>70.0</td>\n",
       "      <td>151.0</td>\n",
       "      <td>565.0</td>\n",
       "      <td>2.0</td>\n",
       "      <td>Willy Santantines</td>\n",
       "      <td>True</td>\n",
       "    </tr>\n",
       "  </tbody>\n",
       "</table>\n",
       "</div>"
      ],
      "text/plain": [
       "  PassengerId HomePlanet CryoSleep  Cabin  Destination   Age    VIP  \\\n",
       "0     0001_01     Europa     False  B/0/P  TRAPPIST-1e  39.0  False   \n",
       "1     0002_01      Earth     False  F/0/S  TRAPPIST-1e  24.0  False   \n",
       "2     0003_01     Europa     False  A/0/S  TRAPPIST-1e  58.0   True   \n",
       "3     0003_02     Europa     False  A/0/S  TRAPPIST-1e  33.0  False   \n",
       "4     0004_01      Earth     False  F/1/S  TRAPPIST-1e  16.0  False   \n",
       "\n",
       "   RoomService  FoodCourt  ShoppingMall     Spa  VRDeck               Name  \\\n",
       "0          0.0        0.0           0.0     0.0     0.0    Maham Ofracculy   \n",
       "1        109.0        9.0          25.0   549.0    44.0       Juanna Vines   \n",
       "2         43.0     3576.0           0.0  6715.0    49.0      Altark Susent   \n",
       "3          0.0     1283.0         371.0  3329.0   193.0       Solam Susent   \n",
       "4        303.0       70.0         151.0   565.0     2.0  Willy Santantines   \n",
       "\n",
       "   Transported  \n",
       "0        False  \n",
       "1         True  \n",
       "2        False  \n",
       "3        False  \n",
       "4         True  "
      ]
     },
     "execution_count": 5,
     "metadata": {},
     "output_type": "execute_result"
    }
   ],
   "source": [
    "df_train.head()"
   ]
  },
  {
   "cell_type": "code",
   "execution_count": 6,
   "metadata": {},
   "outputs": [
    {
     "data": {
      "text/html": [
       "<div>\n",
       "<style scoped>\n",
       "    .dataframe tbody tr th:only-of-type {\n",
       "        vertical-align: middle;\n",
       "    }\n",
       "\n",
       "    .dataframe tbody tr th {\n",
       "        vertical-align: top;\n",
       "    }\n",
       "\n",
       "    .dataframe thead th {\n",
       "        text-align: right;\n",
       "    }\n",
       "</style>\n",
       "<table border=\"1\" class=\"dataframe\">\n",
       "  <thead>\n",
       "    <tr style=\"text-align: right;\">\n",
       "      <th></th>\n",
       "      <th>PassengerId</th>\n",
       "      <th>HomePlanet</th>\n",
       "      <th>CryoSleep</th>\n",
       "      <th>Cabin</th>\n",
       "      <th>Destination</th>\n",
       "      <th>Age</th>\n",
       "      <th>VIP</th>\n",
       "      <th>RoomService</th>\n",
       "      <th>FoodCourt</th>\n",
       "      <th>ShoppingMall</th>\n",
       "      <th>Spa</th>\n",
       "      <th>VRDeck</th>\n",
       "      <th>Name</th>\n",
       "    </tr>\n",
       "  </thead>\n",
       "  <tbody>\n",
       "    <tr>\n",
       "      <th>0</th>\n",
       "      <td>0013_01</td>\n",
       "      <td>Earth</td>\n",
       "      <td>True</td>\n",
       "      <td>G/3/S</td>\n",
       "      <td>TRAPPIST-1e</td>\n",
       "      <td>27.0</td>\n",
       "      <td>False</td>\n",
       "      <td>0.0</td>\n",
       "      <td>0.0</td>\n",
       "      <td>0.0</td>\n",
       "      <td>0.0</td>\n",
       "      <td>0.0</td>\n",
       "      <td>Nelly Carsoning</td>\n",
       "    </tr>\n",
       "    <tr>\n",
       "      <th>1</th>\n",
       "      <td>0018_01</td>\n",
       "      <td>Earth</td>\n",
       "      <td>False</td>\n",
       "      <td>F/4/S</td>\n",
       "      <td>TRAPPIST-1e</td>\n",
       "      <td>19.0</td>\n",
       "      <td>False</td>\n",
       "      <td>0.0</td>\n",
       "      <td>9.0</td>\n",
       "      <td>0.0</td>\n",
       "      <td>2823.0</td>\n",
       "      <td>0.0</td>\n",
       "      <td>Lerome Peckers</td>\n",
       "    </tr>\n",
       "    <tr>\n",
       "      <th>2</th>\n",
       "      <td>0019_01</td>\n",
       "      <td>Europa</td>\n",
       "      <td>True</td>\n",
       "      <td>C/0/S</td>\n",
       "      <td>55 Cancri e</td>\n",
       "      <td>31.0</td>\n",
       "      <td>False</td>\n",
       "      <td>0.0</td>\n",
       "      <td>0.0</td>\n",
       "      <td>0.0</td>\n",
       "      <td>0.0</td>\n",
       "      <td>0.0</td>\n",
       "      <td>Sabih Unhearfus</td>\n",
       "    </tr>\n",
       "    <tr>\n",
       "      <th>3</th>\n",
       "      <td>0021_01</td>\n",
       "      <td>Europa</td>\n",
       "      <td>False</td>\n",
       "      <td>C/1/S</td>\n",
       "      <td>TRAPPIST-1e</td>\n",
       "      <td>38.0</td>\n",
       "      <td>False</td>\n",
       "      <td>0.0</td>\n",
       "      <td>6652.0</td>\n",
       "      <td>0.0</td>\n",
       "      <td>181.0</td>\n",
       "      <td>585.0</td>\n",
       "      <td>Meratz Caltilter</td>\n",
       "    </tr>\n",
       "    <tr>\n",
       "      <th>4</th>\n",
       "      <td>0023_01</td>\n",
       "      <td>Earth</td>\n",
       "      <td>False</td>\n",
       "      <td>F/5/S</td>\n",
       "      <td>TRAPPIST-1e</td>\n",
       "      <td>20.0</td>\n",
       "      <td>False</td>\n",
       "      <td>10.0</td>\n",
       "      <td>0.0</td>\n",
       "      <td>635.0</td>\n",
       "      <td>0.0</td>\n",
       "      <td>0.0</td>\n",
       "      <td>Brence Harperez</td>\n",
       "    </tr>\n",
       "  </tbody>\n",
       "</table>\n",
       "</div>"
      ],
      "text/plain": [
       "  PassengerId HomePlanet CryoSleep  Cabin  Destination   Age    VIP  \\\n",
       "0     0013_01      Earth      True  G/3/S  TRAPPIST-1e  27.0  False   \n",
       "1     0018_01      Earth     False  F/4/S  TRAPPIST-1e  19.0  False   \n",
       "2     0019_01     Europa      True  C/0/S  55 Cancri e  31.0  False   \n",
       "3     0021_01     Europa     False  C/1/S  TRAPPIST-1e  38.0  False   \n",
       "4     0023_01      Earth     False  F/5/S  TRAPPIST-1e  20.0  False   \n",
       "\n",
       "   RoomService  FoodCourt  ShoppingMall     Spa  VRDeck              Name  \n",
       "0          0.0        0.0           0.0     0.0     0.0   Nelly Carsoning  \n",
       "1          0.0        9.0           0.0  2823.0     0.0    Lerome Peckers  \n",
       "2          0.0        0.0           0.0     0.0     0.0   Sabih Unhearfus  \n",
       "3          0.0     6652.0           0.0   181.0   585.0  Meratz Caltilter  \n",
       "4         10.0        0.0         635.0     0.0     0.0   Brence Harperez  "
      ]
     },
     "execution_count": 6,
     "metadata": {},
     "output_type": "execute_result"
    }
   ],
   "source": [
    "df_test.head()"
   ]
  },
  {
   "cell_type": "code",
   "execution_count": 7,
   "metadata": {},
   "outputs": [
    {
     "name": "stdout",
     "output_type": "stream",
     "text": [
      "<class 'pandas.core.frame.DataFrame'>\n",
      "RangeIndex: 8693 entries, 0 to 8692\n",
      "Data columns (total 14 columns):\n",
      " #   Column        Non-Null Count  Dtype  \n",
      "---  ------        --------------  -----  \n",
      " 0   PassengerId   8693 non-null   object \n",
      " 1   HomePlanet    8492 non-null   object \n",
      " 2   CryoSleep     8476 non-null   object \n",
      " 3   Cabin         8494 non-null   object \n",
      " 4   Destination   8511 non-null   object \n",
      " 5   Age           8514 non-null   float64\n",
      " 6   VIP           8490 non-null   object \n",
      " 7   RoomService   8512 non-null   float64\n",
      " 8   FoodCourt     8510 non-null   float64\n",
      " 9   ShoppingMall  8485 non-null   float64\n",
      " 10  Spa           8510 non-null   float64\n",
      " 11  VRDeck        8505 non-null   float64\n",
      " 12  Name          8493 non-null   object \n",
      " 13  Transported   8693 non-null   bool   \n",
      "dtypes: bool(1), float64(6), object(7)\n",
      "memory usage: 891.5+ KB\n"
     ]
    }
   ],
   "source": [
    "df_train.info()"
   ]
  },
  {
   "cell_type": "code",
   "execution_count": 8,
   "metadata": {},
   "outputs": [
    {
     "data": {
      "text/html": [
       "<div>\n",
       "<style scoped>\n",
       "    .dataframe tbody tr th:only-of-type {\n",
       "        vertical-align: middle;\n",
       "    }\n",
       "\n",
       "    .dataframe tbody tr th {\n",
       "        vertical-align: top;\n",
       "    }\n",
       "\n",
       "    .dataframe thead th {\n",
       "        text-align: right;\n",
       "    }\n",
       "</style>\n",
       "<table border=\"1\" class=\"dataframe\">\n",
       "  <thead>\n",
       "    <tr style=\"text-align: right;\">\n",
       "      <th></th>\n",
       "      <th>Age</th>\n",
       "      <th>RoomService</th>\n",
       "      <th>FoodCourt</th>\n",
       "      <th>ShoppingMall</th>\n",
       "      <th>Spa</th>\n",
       "      <th>VRDeck</th>\n",
       "    </tr>\n",
       "  </thead>\n",
       "  <tbody>\n",
       "    <tr>\n",
       "      <th>count</th>\n",
       "      <td>8514.000000</td>\n",
       "      <td>8512.000000</td>\n",
       "      <td>8510.000000</td>\n",
       "      <td>8485.000000</td>\n",
       "      <td>8510.000000</td>\n",
       "      <td>8505.000000</td>\n",
       "    </tr>\n",
       "    <tr>\n",
       "      <th>mean</th>\n",
       "      <td>28.827930</td>\n",
       "      <td>224.687617</td>\n",
       "      <td>458.077203</td>\n",
       "      <td>173.729169</td>\n",
       "      <td>311.138778</td>\n",
       "      <td>304.854791</td>\n",
       "    </tr>\n",
       "    <tr>\n",
       "      <th>std</th>\n",
       "      <td>14.489021</td>\n",
       "      <td>666.717663</td>\n",
       "      <td>1611.489240</td>\n",
       "      <td>604.696458</td>\n",
       "      <td>1136.705535</td>\n",
       "      <td>1145.717189</td>\n",
       "    </tr>\n",
       "    <tr>\n",
       "      <th>min</th>\n",
       "      <td>0.000000</td>\n",
       "      <td>0.000000</td>\n",
       "      <td>0.000000</td>\n",
       "      <td>0.000000</td>\n",
       "      <td>0.000000</td>\n",
       "      <td>0.000000</td>\n",
       "    </tr>\n",
       "    <tr>\n",
       "      <th>25%</th>\n",
       "      <td>19.000000</td>\n",
       "      <td>0.000000</td>\n",
       "      <td>0.000000</td>\n",
       "      <td>0.000000</td>\n",
       "      <td>0.000000</td>\n",
       "      <td>0.000000</td>\n",
       "    </tr>\n",
       "    <tr>\n",
       "      <th>50%</th>\n",
       "      <td>27.000000</td>\n",
       "      <td>0.000000</td>\n",
       "      <td>0.000000</td>\n",
       "      <td>0.000000</td>\n",
       "      <td>0.000000</td>\n",
       "      <td>0.000000</td>\n",
       "    </tr>\n",
       "    <tr>\n",
       "      <th>75%</th>\n",
       "      <td>38.000000</td>\n",
       "      <td>47.000000</td>\n",
       "      <td>76.000000</td>\n",
       "      <td>27.000000</td>\n",
       "      <td>59.000000</td>\n",
       "      <td>46.000000</td>\n",
       "    </tr>\n",
       "    <tr>\n",
       "      <th>max</th>\n",
       "      <td>79.000000</td>\n",
       "      <td>14327.000000</td>\n",
       "      <td>29813.000000</td>\n",
       "      <td>23492.000000</td>\n",
       "      <td>22408.000000</td>\n",
       "      <td>24133.000000</td>\n",
       "    </tr>\n",
       "  </tbody>\n",
       "</table>\n",
       "</div>"
      ],
      "text/plain": [
       "               Age   RoomService     FoodCourt  ShoppingMall           Spa  \\\n",
       "count  8514.000000   8512.000000   8510.000000   8485.000000   8510.000000   \n",
       "mean     28.827930    224.687617    458.077203    173.729169    311.138778   \n",
       "std      14.489021    666.717663   1611.489240    604.696458   1136.705535   \n",
       "min       0.000000      0.000000      0.000000      0.000000      0.000000   \n",
       "25%      19.000000      0.000000      0.000000      0.000000      0.000000   \n",
       "50%      27.000000      0.000000      0.000000      0.000000      0.000000   \n",
       "75%      38.000000     47.000000     76.000000     27.000000     59.000000   \n",
       "max      79.000000  14327.000000  29813.000000  23492.000000  22408.000000   \n",
       "\n",
       "             VRDeck  \n",
       "count   8505.000000  \n",
       "mean     304.854791  \n",
       "std     1145.717189  \n",
       "min        0.000000  \n",
       "25%        0.000000  \n",
       "50%        0.000000  \n",
       "75%       46.000000  \n",
       "max    24133.000000  "
      ]
     },
     "execution_count": 8,
     "metadata": {},
     "output_type": "execute_result"
    }
   ],
   "source": [
    "df_train.describe()"
   ]
  },
  {
   "cell_type": "code",
   "execution_count": 9,
   "metadata": {},
   "outputs": [
    {
     "data": {
      "text/plain": [
       "PassengerId       0\n",
       "HomePlanet      201\n",
       "CryoSleep       217\n",
       "Cabin           199\n",
       "Destination     182\n",
       "Age             179\n",
       "VIP             203\n",
       "RoomService     181\n",
       "FoodCourt       183\n",
       "ShoppingMall    208\n",
       "Spa             183\n",
       "VRDeck          188\n",
       "Name            200\n",
       "Transported       0\n",
       "dtype: int64"
      ]
     },
     "execution_count": 9,
     "metadata": {},
     "output_type": "execute_result"
    }
   ],
   "source": [
    "df_train.isnull().sum()"
   ]
  },
  {
   "cell_type": "code",
   "execution_count": 45,
   "metadata": {},
   "outputs": [
    {
     "name": "stdout",
     "output_type": "stream",
     "text": [
      "Categorical columns: ['HomePlanet', 'CryoSleep', 'Destination', 'VIP', 'Transported']\n"
     ]
    }
   ],
   "source": [
    "# Identify categorical columns\n",
    "categorical_columns = df_train.select_dtypes(include=['object', 'bool']).columns\n",
    "\n",
    "# Exclude PassengerId and Name from categorical columns\n",
    "categorical_columns_exclusion = ['PassengerId', 'Name', 'Cabin']\n",
    "categorical_columns = [col for col in categorical_columns if col not in categorical_columns_exclusion]\n",
    "\n",
    "print(\"Categorical columns:\", list(categorical_columns))"
   ]
  },
  {
   "cell_type": "code",
   "execution_count": 46,
   "metadata": {},
   "outputs": [
    {
     "name": "stdout",
     "output_type": "stream",
     "text": [
      "\n",
      "Numerical columns: ['Age', 'RoomService', 'FoodCourt', 'Spa', 'VRDeck']\n"
     ]
    }
   ],
   "source": [
    "# Identify numerical columns\n",
    "numerical_columns = df_train.select_dtypes(include=['int64', 'float64']).columns\n",
    "\n",
    "# Exclude PassengerId and Transported from numerical columns\n",
    "#numerical_columns_exclusion = ['RoomService', 'FoodCourt', 'ShoppingMall', 'Spa', 'VRDeck']\n",
    "numerical_columns_exclusion = ['ShoppingMall']\n",
    "numerical_columns = [col for col in numerical_columns if col not in numerical_columns_exclusion]\n",
    "print(\"\\nNumerical columns:\", list(numerical_columns))"
   ]
  },
  {
   "cell_type": "code",
   "execution_count": 47,
   "metadata": {},
   "outputs": [
    {
     "name": "stdout",
     "output_type": "stream",
     "text": [
      "\n",
      "Value counts for each categorical column:\n",
      "==========================================\n",
      "\n",
      "Column: HomePlanet\n",
      "HomePlanet\n",
      "Earth     4602\n",
      "Europa    2131\n",
      "Mars      1759\n",
      "Name: count, dtype: int64\n",
      "Null values: 201\n",
      "------------------------------------------------------\n",
      "\n",
      "Column: CryoSleep\n",
      "CryoSleep\n",
      "False    5439\n",
      "True     3037\n",
      "Name: count, dtype: int64\n",
      "Null values: 217\n",
      "------------------------------------------------------\n",
      "\n",
      "Column: Destination\n",
      "Destination\n",
      "TRAPPIST-1e      5915\n",
      "55 Cancri e      1800\n",
      "PSO J318.5-22     796\n",
      "Name: count, dtype: int64\n",
      "Null values: 182\n",
      "------------------------------------------------------\n",
      "\n",
      "Column: VIP\n",
      "VIP\n",
      "False    8291\n",
      "True      199\n",
      "Name: count, dtype: int64\n",
      "Null values: 203\n",
      "------------------------------------------------------\n",
      "\n",
      "Column: Transported\n",
      "Transported\n",
      "True     4378\n",
      "False    4315\n",
      "Name: count, dtype: int64\n",
      "Null values: 0\n",
      "------------------------------------------------------\n"
     ]
    }
   ],
   "source": [
    "# Print value counts for each categorical column\n",
    "print(\"\\nValue counts for each categorical column:\")\n",
    "print(\"==========================================\")\n",
    "for categorical_column in categorical_columns:\n",
    "    print(f\"\\nColumn: {categorical_column}\")\n",
    "    print(df_train[categorical_column].value_counts())\n",
    "    print(\"Null values:\", df_train[categorical_column].isnull().sum())\n",
    "    print(\"------------------------------------------------------\")"
   ]
  },
  {
   "cell_type": "code",
   "execution_count": 140,
   "metadata": {},
   "outputs": [],
   "source": [
    "#Initialize transformers\n",
    "cat_imputer = SimpleImputer(strategy='most_frequent')\n",
    "num_imputer = SimpleImputer(strategy='median')\n",
    "encoder = OneHotEncoder(sparse_output=False, handle_unknown='ignore')\n",
    "scaler = StandardScaler()"
   ]
  },
  {
   "cell_type": "code",
   "execution_count": 141,
   "metadata": {},
   "outputs": [],
   "source": [
    "def get_categorical_numerical_columns(df):\n",
    "    \"\"\"Identify categorical and numerical columns\"\"\"\n",
    "    categorical_columns = df.select_dtypes(include=['object', 'bool']).columns\n",
    "    numerical_columns = df.select_dtypes(include=['int64', 'float64']).columns\n",
    "\n",
    "    # Exclude specific columns but keep Deck and Side\n",
    "    categorical_columns_exclusion = [\n",
    "        'PassengerId', \n",
    "        'Name', \n",
    "        'Transported', \n",
    "        'Cabin'  # Exclude original Cabin but keep Deck and Side\n",
    "    ]\n",
    "    categorical_columns = [col for col in categorical_columns if col not in categorical_columns_exclusion]\n",
    "\n",
    "    numerical_columns_exclusion = ['PassengerId', 'Transported', 'ShoppingMall']\n",
    "    numerical_columns = [col for col in numerical_columns if col not in numerical_columns_exclusion]\n",
    "\n",
    "    return categorical_columns, numerical_columns"
   ]
  },
  {
   "cell_type": "code",
   "execution_count": 142,
   "metadata": {},
   "outputs": [],
   "source": [
    "def process_numerical(df, is_training=True):\n",
    "    \"\"\"Handle missing values in numerical columns\"\"\"\n",
    "    global num_imputer\n",
    "    _, numerical_columns = get_categorical_numerical_columns(df)\n",
    "\n",
    "    if not numerical_columns:\n",
    "        return df\n",
    "\n",
    "    if is_training:\n",
    "        num_imputer = SimpleImputer(strategy='median')\n",
    "        df[numerical_columns] = num_imputer.fit_transform(df[numerical_columns])\n",
    "    else:\n",
    "        df[numerical_columns] = num_imputer.transform(df[numerical_columns])\n",
    "\n",
    "    return df\n"
   ]
  },
  {
   "cell_type": "code",
   "execution_count": 143,
   "metadata": {
    "scrolled": true
   },
   "outputs": [],
   "source": [
    "def scale_features(df, is_training=True):\n",
    "    \"\"\"Scale numerical features\"\"\"\n",
    "    global scaler\n",
    "    _, numerical_columns = get_categorical_numerical_columns(df)\n",
    "\n",
    "    if not numerical_columns:\n",
    "        return df\n",
    "\n",
    "    if is_training:\n",
    "        scaler = StandardScaler()\n",
    "        df[numerical_columns] = scaler.fit_transform(df[numerical_columns])\n",
    "    else:\n",
    "        df[numerical_columns] = scaler.transform(df[numerical_columns])\n",
    "\n",
    "    return df\n"
   ]
  },
  {
   "cell_type": "code",
   "execution_count": 144,
   "metadata": {},
   "outputs": [],
   "source": [
    "def process_categorical(df, is_training=True):\n",
    "    \"\"\"Handle missing values and encode categorical columns\"\"\"\n",
    "    global cat_imputer, encoder\n",
    "    categorical_columns, _ = get_categorical_numerical_columns(df)\n",
    "\n",
    "    if not categorical_columns:\n",
    "        return df\n",
    "\n",
    "    if is_training:\n",
    "        # Impute missing values\n",
    "        cat_imputer = SimpleImputer(strategy='most_frequent')\n",
    "        df[categorical_columns] = cat_imputer.fit_transform(df[categorical_columns])\n",
    "\n",
    "        # Encode categorical variables\n",
    "        encoder = OneHotEncoder(sparse_output=False, handle_unknown='ignore')\n",
    "        encoded_features = encoder.fit_transform(df[categorical_columns])\n",
    "    else:\n",
    "        df[categorical_columns] = cat_imputer.transform(df[categorical_columns])\n",
    "        encoded_features = encoder.transform(df[categorical_columns])\n",
    "\n",
    "    # Create encoded DataFrame\n",
    "    encoded_feature_names = encoder.get_feature_names_out(categorical_columns)\n",
    "    encoded_df = pd.DataFrame(\n",
    "        encoded_features, \n",
    "        columns=encoded_feature_names, \n",
    "        index=df.index\n",
    "    )\n",
    "\n",
    "    # Drop original categorical columns and add encoded ones\n",
    "    df = df.drop(columns=categorical_columns)\n",
    "    df = pd.concat([df, encoded_df], axis=1)\n",
    "\n",
    "    return df\n"
   ]
  },
  {
   "cell_type": "code",
   "execution_count": 145,
   "metadata": {},
   "outputs": [],
   "source": [
    "def feature_engineering(df):\n",
    "    \"\"\"Create new features\"\"\"\n",
    "    df = df.copy()\n",
    "\n",
    "    # Split Cabin into deck and side\n",
    "    if 'Cabin' in df.columns:\n",
    "        cabin_split = df['Cabin'].str.split('/', expand=True)\n",
    "        if cabin_split is not None:\n",
    "            df['Deck'] = cabin_split[0]\n",
    "            df['Side'] = cabin_split[2]\n",
    "\n",
    "    # Convert boolean strings to integers\n",
    "    if 'CryoSleep' in df.columns:\n",
    "        df['CryoSleep'] = df['CryoSleep'].astype(str).map({'True': 1, 'False': 0})\n",
    "    if 'VIP' in df.columns:\n",
    "        df['VIP'] = df['VIP'].astype(str).map({'True': 1, 'False': 0})\n",
    "\n",
    "    return df"
   ]
  },
  {
   "cell_type": "code",
   "execution_count": 146,
   "metadata": {},
   "outputs": [],
   "source": [
    "def prepare_data(df, is_training=True):\n",
    "    \"\"\"Main function to prepare data\"\"\"\n",
    "    # Create copy of dataframe\n",
    "    df = df.copy()\n",
    "\n",
    "    # Feature engineering\n",
    "    df = feature_engineering(df)\n",
    "\n",
    "    # Process numerical and categorical data\n",
    "    df = process_numerical(df, is_training)\n",
    "    df = scale_features(df, is_training)\n",
    "    df = process_categorical(df, is_training)\n",
    "\n",
    "    # Drop unnecessary columns\n",
    "    columns_to_drop = ['Name', 'PassengerId', 'Cabin', 'Group']\n",
    "    df = df.drop(columns=[col for col in columns_to_drop if col in df.columns])\n",
    "\n",
    "    return df\n",
    "\n"
   ]
  },
  {
   "cell_type": "code",
   "execution_count": 147,
   "metadata": {},
   "outputs": [
    {
     "name": "stdout",
     "output_type": "stream",
     "text": [
      "['HomePlanet', 'CryoSleep', 'Destination', 'VIP']\n",
      "['Age', 'RoomService', 'FoodCourt', 'Spa', 'VRDeck']\n"
     ]
    }
   ],
   "source": [
    "categorical_columns, numerical_columns = get_categorical_numerical_columns(df_train)\n",
    "print(categorical_columns)\n",
    "print(numerical_columns)"
   ]
  },
  {
   "cell_type": "code",
   "execution_count": 148,
   "metadata": {
    "scrolled": true
   },
   "outputs": [],
   "source": [
    "df_train_processed = prepare_data(df_train.copy(), is_training=True)\n",
    "df_test_processed = prepare_data(df_test.copy(), is_training=False)"
   ]
  },
  {
   "cell_type": "code",
   "execution_count": 149,
   "metadata": {},
   "outputs": [
    {
     "data": {
      "text/plain": [
       "CryoSleep                      0\n",
       "Age                            0\n",
       "VIP                            0\n",
       "RoomService                    0\n",
       "FoodCourt                      0\n",
       "ShoppingMall                 208\n",
       "Spa                            0\n",
       "VRDeck                         0\n",
       "Transported                    0\n",
       "HomePlanet_Earth               0\n",
       "HomePlanet_Europa              0\n",
       "HomePlanet_Mars                0\n",
       "Destination_55 Cancri e        0\n",
       "Destination_PSO J318.5-22      0\n",
       "Destination_TRAPPIST-1e        0\n",
       "Deck_A                         0\n",
       "Deck_B                         0\n",
       "Deck_C                         0\n",
       "Deck_D                         0\n",
       "Deck_E                         0\n",
       "Deck_F                         0\n",
       "Deck_G                         0\n",
       "Deck_T                         0\n",
       "Side_P                         0\n",
       "Side_S                         0\n",
       "dtype: int64"
      ]
     },
     "execution_count": 149,
     "metadata": {},
     "output_type": "execute_result"
    }
   ],
   "source": [
    "df_train_processed.isnull().sum()"
   ]
  },
  {
   "cell_type": "code",
   "execution_count": 150,
   "metadata": {},
   "outputs": [
    {
     "name": "stdout",
     "output_type": "stream",
     "text": [
      "<class 'pandas.core.frame.DataFrame'>\n",
      "RangeIndex: 8693 entries, 0 to 8692\n",
      "Data columns (total 25 columns):\n",
      " #   Column                     Non-Null Count  Dtype  \n",
      "---  ------                     --------------  -----  \n",
      " 0   CryoSleep                  8693 non-null   float64\n",
      " 1   Age                        8693 non-null   float64\n",
      " 2   VIP                        8693 non-null   float64\n",
      " 3   RoomService                8693 non-null   float64\n",
      " 4   FoodCourt                  8693 non-null   float64\n",
      " 5   ShoppingMall               8485 non-null   float64\n",
      " 6   Spa                        8693 non-null   float64\n",
      " 7   VRDeck                     8693 non-null   float64\n",
      " 8   Transported                8693 non-null   bool   \n",
      " 9   HomePlanet_Earth           8693 non-null   float64\n",
      " 10  HomePlanet_Europa          8693 non-null   float64\n",
      " 11  HomePlanet_Mars            8693 non-null   float64\n",
      " 12  Destination_55 Cancri e    8693 non-null   float64\n",
      " 13  Destination_PSO J318.5-22  8693 non-null   float64\n",
      " 14  Destination_TRAPPIST-1e    8693 non-null   float64\n",
      " 15  Deck_A                     8693 non-null   float64\n",
      " 16  Deck_B                     8693 non-null   float64\n",
      " 17  Deck_C                     8693 non-null   float64\n",
      " 18  Deck_D                     8693 non-null   float64\n",
      " 19  Deck_E                     8693 non-null   float64\n",
      " 20  Deck_F                     8693 non-null   float64\n",
      " 21  Deck_G                     8693 non-null   float64\n",
      " 22  Deck_T                     8693 non-null   float64\n",
      " 23  Side_P                     8693 non-null   float64\n",
      " 24  Side_S                     8693 non-null   float64\n",
      "dtypes: bool(1), float64(24)\n",
      "memory usage: 1.6 MB\n"
     ]
    }
   ],
   "source": [
    "df_train_processed.info()"
   ]
  },
  {
   "cell_type": "code",
   "execution_count": 152,
   "metadata": {},
   "outputs": [
    {
     "data": {
      "text/plain": [
       "Index(['CryoSleep', 'Age', 'VIP', 'RoomService', 'FoodCourt', 'ShoppingMall',\n",
       "       'Spa', 'VRDeck', 'Transported', 'HomePlanet_Earth', 'HomePlanet_Europa',\n",
       "       'HomePlanet_Mars', 'Destination_55 Cancri e',\n",
       "       'Destination_PSO J318.5-22', 'Destination_TRAPPIST-1e', 'Deck_A',\n",
       "       'Deck_B', 'Deck_C', 'Deck_D', 'Deck_E', 'Deck_F', 'Deck_G', 'Deck_T',\n",
       "       'Side_P', 'Side_S'],\n",
       "      dtype='object')"
      ]
     },
     "execution_count": 152,
     "metadata": {},
     "output_type": "execute_result"
    }
   ],
   "source": [
    "df_train_processed.columns"
   ]
  },
  {
   "cell_type": "code",
   "execution_count": 153,
   "metadata": {},
   "outputs": [
    {
     "data": {
      "text/plain": [
       "CryoSleep                     0\n",
       "Age                           0\n",
       "VIP                           0\n",
       "RoomService                   0\n",
       "FoodCourt                     0\n",
       "ShoppingMall                 98\n",
       "Spa                           0\n",
       "VRDeck                        0\n",
       "HomePlanet_Earth              0\n",
       "HomePlanet_Europa             0\n",
       "HomePlanet_Mars               0\n",
       "Destination_55 Cancri e       0\n",
       "Destination_PSO J318.5-22     0\n",
       "Destination_TRAPPIST-1e       0\n",
       "Deck_A                        0\n",
       "Deck_B                        0\n",
       "Deck_C                        0\n",
       "Deck_D                        0\n",
       "Deck_E                        0\n",
       "Deck_F                        0\n",
       "Deck_G                        0\n",
       "Deck_T                        0\n",
       "Side_P                        0\n",
       "Side_S                        0\n",
       "dtype: int64"
      ]
     },
     "execution_count": 153,
     "metadata": {},
     "output_type": "execute_result"
    }
   ],
   "source": [
    "df_test_processed.isnull().sum()"
   ]
  },
  {
   "cell_type": "code",
   "execution_count": 154,
   "metadata": {},
   "outputs": [
    {
     "name": "stdout",
     "output_type": "stream",
     "text": [
      "<class 'pandas.core.frame.DataFrame'>\n",
      "RangeIndex: 4277 entries, 0 to 4276\n",
      "Data columns (total 24 columns):\n",
      " #   Column                     Non-Null Count  Dtype  \n",
      "---  ------                     --------------  -----  \n",
      " 0   CryoSleep                  4277 non-null   float64\n",
      " 1   Age                        4277 non-null   float64\n",
      " 2   VIP                        4277 non-null   float64\n",
      " 3   RoomService                4277 non-null   float64\n",
      " 4   FoodCourt                  4277 non-null   float64\n",
      " 5   ShoppingMall               4179 non-null   float64\n",
      " 6   Spa                        4277 non-null   float64\n",
      " 7   VRDeck                     4277 non-null   float64\n",
      " 8   HomePlanet_Earth           4277 non-null   float64\n",
      " 9   HomePlanet_Europa          4277 non-null   float64\n",
      " 10  HomePlanet_Mars            4277 non-null   float64\n",
      " 11  Destination_55 Cancri e    4277 non-null   float64\n",
      " 12  Destination_PSO J318.5-22  4277 non-null   float64\n",
      " 13  Destination_TRAPPIST-1e    4277 non-null   float64\n",
      " 14  Deck_A                     4277 non-null   float64\n",
      " 15  Deck_B                     4277 non-null   float64\n",
      " 16  Deck_C                     4277 non-null   float64\n",
      " 17  Deck_D                     4277 non-null   float64\n",
      " 18  Deck_E                     4277 non-null   float64\n",
      " 19  Deck_F                     4277 non-null   float64\n",
      " 20  Deck_G                     4277 non-null   float64\n",
      " 21  Deck_T                     4277 non-null   float64\n",
      " 22  Side_P                     4277 non-null   float64\n",
      " 23  Side_S                     4277 non-null   float64\n",
      "dtypes: float64(24)\n",
      "memory usage: 802.1 KB\n"
     ]
    }
   ],
   "source": [
    "df_test_processed.info()"
   ]
  },
  {
   "cell_type": "code",
   "execution_count": 155,
   "metadata": {},
   "outputs": [],
   "source": [
    "#correlation_matrix_train = df_train_processed.corr()\n",
    "#print(correlation_matrix_train)"
   ]
  },
  {
   "cell_type": "code",
   "execution_count": 156,
   "metadata": {},
   "outputs": [],
   "source": [
    "#print(\"\\nCorrelations with Transported:\")\n",
    "#print(correlation_matrix_train[\"Transported\"].sort_values(ascending=False))"
   ]
  },
  {
   "cell_type": "code",
   "execution_count": 157,
   "metadata": {},
   "outputs": [],
   "source": [
    "# # Heatmap visualization\n",
    "# import seaborn as sns\n",
    "# import matplotlib.pyplot as plt\n",
    "\n",
    "# plt.figure(figsize=(12, 8))\n",
    "# sns.heatmap(correlation_matrix_train, annot=True, cmap='coolwarm', center=0)\n",
    "# plt.title('Correlation Matrix Heatmap')\n",
    "# plt.xticks(rotation=45, ha='right')\n",
    "# plt.yticks(rotation=0)\n",
    "# plt.tight_layout()\n",
    "# plt.show()"
   ]
  },
  {
   "cell_type": "code",
   "execution_count": 158,
   "metadata": {
    "scrolled": true
   },
   "outputs": [],
   "source": [
    "# Prepare training data\n",
    "X = df_train_processed.drop('Transported', axis=1)\n",
    "y = df_train_processed['Transported']  # Binary classification target"
   ]
  },
  {
   "cell_type": "code",
   "execution_count": 159,
   "metadata": {
    "scrolled": true
   },
   "outputs": [
    {
     "name": "stdout",
     "output_type": "stream",
     "text": [
      "Training features shape: (8693, 24)\n",
      "Training target shape: (8693,)\n",
      "Test features shape: (4277, 24)\n",
      "\n",
      "Feature columns: ['CryoSleep', 'Age', 'VIP', 'RoomService', 'FoodCourt', 'ShoppingMall', 'Spa', 'VRDeck', 'HomePlanet_Earth', 'HomePlanet_Europa', 'HomePlanet_Mars', 'Destination_55 Cancri e', 'Destination_PSO J318.5-22', 'Destination_TRAPPIST-1e', 'Deck_A', 'Deck_B', 'Deck_C', 'Deck_D', 'Deck_E', 'Deck_F', 'Deck_G', 'Deck_T', 'Side_P', 'Side_S']\n",
      "\n",
      "First few rows of training features:\n",
      "   CryoSleep       Age       VIP  RoomService  FoodCourt  ShoppingMall  \\\n",
      "0   -0.73277  0.711945 -0.153063    -0.333105  -0.281027           0.0   \n",
      "1   -0.73277 -0.334037 -0.153063    -0.168073  -0.275387          25.0   \n",
      "2   -0.73277  2.036857  6.533255    -0.268001   1.959998           0.0   \n",
      "3   -0.73277  0.293552 -0.153063    -0.333105   0.523010         371.0   \n",
      "4   -0.73277 -0.891895 -0.153063     0.125652  -0.237159         151.0   \n",
      "\n",
      "        Spa    VRDeck  HomePlanet_Earth  HomePlanet_Europa  ...  Deck_A  \\\n",
      "0 -0.270626 -0.263003               0.0                1.0  ...     0.0   \n",
      "1  0.217158 -0.224205               1.0                0.0  ...     0.0   \n",
      "2  5.695623 -0.219796               0.0                1.0  ...     1.0   \n",
      "3  2.687176 -0.092818               0.0                1.0  ...     1.0   \n",
      "4  0.231374 -0.261240               1.0                0.0  ...     0.0   \n",
      "\n",
      "   Deck_B  Deck_C  Deck_D  Deck_E  Deck_F  Deck_G  Deck_T  Side_P  Side_S  \n",
      "0     1.0     0.0     0.0     0.0     0.0     0.0     0.0     1.0     0.0  \n",
      "1     0.0     0.0     0.0     0.0     1.0     0.0     0.0     0.0     1.0  \n",
      "2     0.0     0.0     0.0     0.0     0.0     0.0     0.0     0.0     1.0  \n",
      "3     0.0     0.0     0.0     0.0     0.0     0.0     0.0     0.0     1.0  \n",
      "4     0.0     0.0     0.0     0.0     1.0     0.0     0.0     0.0     1.0  \n",
      "\n",
      "[5 rows x 24 columns]\n"
     ]
    }
   ],
   "source": [
    "# Save PassengerId from test data for submission\n",
    "test_ids = df_test['PassengerId']\n",
    "X_test = df_test_processed\n",
    "\n",
    "print(\"Training features shape:\", X.shape)\n",
    "print(\"Training target shape:\", y.shape)\n",
    "print(\"Test features shape:\", X_test.shape)\n",
    "\n",
    "# Display feature information\n",
    "print(\"\\nFeature columns:\", X.columns.tolist())\n",
    "print(\"\\nFirst few rows of training features:\")\n",
    "print(X.head())"
   ]
  },
  {
   "cell_type": "code",
   "execution_count": 160,
   "metadata": {},
   "outputs": [
    {
     "name": "stdout",
     "output_type": "stream",
     "text": [
      "\n",
      "Data split shapes:\n",
      "Training set shape: (6954, 24)\n",
      "Validation set shape: (1739, 24)\n",
      "Test set shape: (4277, 24)\n"
     ]
    }
   ],
   "source": [
    "# Split the data\n",
    "X_train, X_val, y_train, y_val = train_test_split(\n",
    "    X, \n",
    "    y, \n",
    "    test_size=0.2, \n",
    "    random_state=42, \n",
    "    stratify=y\n",
    ")\n",
    "\n",
    "print(\"\\nData split shapes:\")\n",
    "print(\"Training set shape:\", X_train.shape)\n",
    "print(\"Validation set shape:\", X_val.shape)\n",
    "print(\"Test set shape:\", X_test.shape)"
   ]
  },
  {
   "cell_type": "code",
   "execution_count": 161,
   "metadata": {},
   "outputs": [],
   "source": [
    "### Train"
   ]
  },
  {
   "cell_type": "code",
   "execution_count": 162,
   "metadata": {},
   "outputs": [],
   "source": [
    "# Cell 10: Train XGBoost model\n",
    "import xgboost as xgb"
   ]
  },
  {
   "cell_type": "code",
   "execution_count": 163,
   "metadata": {
    "scrolled": true
   },
   "outputs": [],
   "source": [
    "# Define hyperparameters\n",
    "hyperparameters = {\n",
    "    'n_estimators': 500,\n",
    "    'max_depth': 5,\n",
    "    'learning_rate': 0.01,\n",
    "    'subsample': 0.8,\n",
    "    'colsample_bytree': 0.9,\n",
    "    'random_state': 42,\n",
    "    'tree_method': 'hist',\n",
    "    'objective': 'binary:logistic',  # For binary classification\n",
    "    'eval_metric': ['logloss', 'error'],  # Track both log loss and classification error\n",
    "    'early_stopping_rounds': 20,\n",
    "    'verbosity': 1\n",
    "}"
   ]
  },
  {
   "cell_type": "code",
   "execution_count": 164,
   "metadata": {
    "scrolled": true
   },
   "outputs": [
    {
     "name": "stdout",
     "output_type": "stream",
     "text": [
      "[0]\tvalidation_0-logloss:0.68898\tvalidation_0-error:0.45168\tvalidation_1-logloss:0.68894\tvalidation_1-error:0.44968\n",
      "[1]\tvalidation_0-logloss:0.68500\tvalidation_0-error:0.22563\tvalidation_1-logloss:0.68493\tvalidation_1-error:0.22714\n",
      "[2]\tvalidation_0-logloss:0.68117\tvalidation_0-error:0.22505\tvalidation_1-logloss:0.68103\tvalidation_1-error:0.22082\n",
      "[3]\tvalidation_0-logloss:0.67731\tvalidation_0-error:0.22102\tvalidation_1-logloss:0.67717\tvalidation_1-error:0.22139\n",
      "[4]\tvalidation_0-logloss:0.67365\tvalidation_0-error:0.22059\tvalidation_1-logloss:0.67359\tvalidation_1-error:0.21622\n",
      "[5]\tvalidation_0-logloss:0.66996\tvalidation_0-error:0.21441\tvalidation_1-logloss:0.66991\tvalidation_1-error:0.21564\n",
      "[6]\tvalidation_0-logloss:0.66636\tvalidation_0-error:0.21355\tvalidation_1-logloss:0.66635\tvalidation_1-error:0.21219\n",
      "[7]\tvalidation_0-logloss:0.66280\tvalidation_0-error:0.21125\tvalidation_1-logloss:0.66291\tvalidation_1-error:0.21104\n",
      "[8]\tvalidation_0-logloss:0.65937\tvalidation_0-error:0.20966\tvalidation_1-logloss:0.65948\tvalidation_1-error:0.21162\n",
      "[9]\tvalidation_0-logloss:0.65609\tvalidation_0-error:0.20823\tvalidation_1-logloss:0.65624\tvalidation_1-error:0.20989\n",
      "[10]\tvalidation_0-logloss:0.65297\tvalidation_0-error:0.20290\tvalidation_1-logloss:0.65320\tvalidation_1-error:0.20817\n",
      "[11]\tvalidation_0-logloss:0.64973\tvalidation_0-error:0.20736\tvalidation_1-logloss:0.65004\tvalidation_1-error:0.20932\n",
      "[12]\tvalidation_0-logloss:0.64644\tvalidation_0-error:0.20722\tvalidation_1-logloss:0.64679\tvalidation_1-error:0.20932\n",
      "[13]\tvalidation_0-logloss:0.64331\tvalidation_0-error:0.20477\tvalidation_1-logloss:0.64368\tvalidation_1-error:0.20759\n",
      "[14]\tvalidation_0-logloss:0.64016\tvalidation_0-error:0.20549\tvalidation_1-logloss:0.64054\tvalidation_1-error:0.20817\n",
      "[15]\tvalidation_0-logloss:0.63714\tvalidation_0-error:0.20794\tvalidation_1-logloss:0.63762\tvalidation_1-error:0.20644\n",
      "[16]\tvalidation_0-logloss:0.63436\tvalidation_0-error:0.20477\tvalidation_1-logloss:0.63492\tvalidation_1-error:0.20932\n",
      "[17]\tvalidation_0-logloss:0.63165\tvalidation_0-error:0.19802\tvalidation_1-logloss:0.63216\tvalidation_1-error:0.20817\n",
      "[18]\tvalidation_0-logloss:0.62873\tvalidation_0-error:0.20391\tvalidation_1-logloss:0.62935\tvalidation_1-error:0.20817\n",
      "[19]\tvalidation_0-logloss:0.62590\tvalidation_0-error:0.20477\tvalidation_1-logloss:0.62651\tvalidation_1-error:0.20817\n",
      "[20]\tvalidation_0-logloss:0.62295\tvalidation_0-error:0.20406\tvalidation_1-logloss:0.62356\tvalidation_1-error:0.20702\n",
      "[21]\tvalidation_0-logloss:0.62023\tvalidation_0-error:0.20708\tvalidation_1-logloss:0.62087\tvalidation_1-error:0.20644\n",
      "[22]\tvalidation_0-logloss:0.61746\tvalidation_0-error:0.20736\tvalidation_1-logloss:0.61818\tvalidation_1-error:0.20529\n",
      "[23]\tvalidation_0-logloss:0.61486\tvalidation_0-error:0.20463\tvalidation_1-logloss:0.61562\tvalidation_1-error:0.20587\n",
      "[24]\tvalidation_0-logloss:0.61225\tvalidation_0-error:0.20147\tvalidation_1-logloss:0.61309\tvalidation_1-error:0.20702\n",
      "[25]\tvalidation_0-logloss:0.60961\tvalidation_0-error:0.20219\tvalidation_1-logloss:0.61044\tvalidation_1-error:0.20357\n",
      "[26]\tvalidation_0-logloss:0.60698\tvalidation_0-error:0.20190\tvalidation_1-logloss:0.60781\tvalidation_1-error:0.20299\n",
      "[27]\tvalidation_0-logloss:0.60440\tvalidation_0-error:0.20060\tvalidation_1-logloss:0.60539\tvalidation_1-error:0.20932\n",
      "[28]\tvalidation_0-logloss:0.60186\tvalidation_0-error:0.20276\tvalidation_1-logloss:0.60290\tvalidation_1-error:0.20529\n",
      "[29]\tvalidation_0-logloss:0.59945\tvalidation_0-error:0.20075\tvalidation_1-logloss:0.60055\tvalidation_1-error:0.20989\n",
      "[30]\tvalidation_0-logloss:0.59723\tvalidation_0-error:0.19730\tvalidation_1-logloss:0.59843\tvalidation_1-error:0.20874\n",
      "[31]\tvalidation_0-logloss:0.59486\tvalidation_0-error:0.19543\tvalidation_1-logloss:0.59613\tvalidation_1-error:0.20702\n",
      "[32]\tvalidation_0-logloss:0.59250\tvalidation_0-error:0.19557\tvalidation_1-logloss:0.59380\tvalidation_1-error:0.20759\n",
      "[33]\tvalidation_0-logloss:0.59009\tvalidation_0-error:0.19917\tvalidation_1-logloss:0.59152\tvalidation_1-error:0.20414\n",
      "[34]\tvalidation_0-logloss:0.58777\tvalidation_0-error:0.19773\tvalidation_1-logloss:0.58923\tvalidation_1-error:0.20069\n",
      "[35]\tvalidation_0-logloss:0.58544\tvalidation_0-error:0.19730\tvalidation_1-logloss:0.58692\tvalidation_1-error:0.20069\n",
      "[36]\tvalidation_0-logloss:0.58301\tvalidation_0-error:0.19758\tvalidation_1-logloss:0.58460\tvalidation_1-error:0.20069\n",
      "[37]\tvalidation_0-logloss:0.58086\tvalidation_0-error:0.19643\tvalidation_1-logloss:0.58251\tvalidation_1-error:0.19896\n",
      "[38]\tvalidation_0-logloss:0.57851\tvalidation_0-error:0.19269\tvalidation_1-logloss:0.58022\tvalidation_1-error:0.19781\n",
      "[39]\tvalidation_0-logloss:0.57620\tvalidation_0-error:0.19370\tvalidation_1-logloss:0.57804\tvalidation_1-error:0.19896\n",
      "[40]\tvalidation_0-logloss:0.57405\tvalidation_0-error:0.19341\tvalidation_1-logloss:0.57591\tvalidation_1-error:0.20127\n",
      "[41]\tvalidation_0-logloss:0.57197\tvalidation_0-error:0.19269\tvalidation_1-logloss:0.57385\tvalidation_1-error:0.20012\n",
      "[42]\tvalidation_0-logloss:0.57001\tvalidation_0-error:0.19356\tvalidation_1-logloss:0.57187\tvalidation_1-error:0.19954\n",
      "[43]\tvalidation_0-logloss:0.56790\tvalidation_0-error:0.19212\tvalidation_1-logloss:0.56976\tvalidation_1-error:0.19609\n",
      "[44]\tvalidation_0-logloss:0.56579\tvalidation_0-error:0.19255\tvalidation_1-logloss:0.56774\tvalidation_1-error:0.19839\n",
      "[45]\tvalidation_0-logloss:0.56381\tvalidation_0-error:0.19126\tvalidation_1-logloss:0.56580\tvalidation_1-error:0.19724\n",
      "[46]\tvalidation_0-logloss:0.56190\tvalidation_0-error:0.19154\tvalidation_1-logloss:0.56393\tvalidation_1-error:0.19781\n",
      "[47]\tvalidation_0-logloss:0.55994\tvalidation_0-error:0.19111\tvalidation_1-logloss:0.56200\tvalidation_1-error:0.19666\n",
      "[48]\tvalidation_0-logloss:0.55807\tvalidation_0-error:0.19198\tvalidation_1-logloss:0.56014\tvalidation_1-error:0.19781\n",
      "[49]\tvalidation_0-logloss:0.55633\tvalidation_0-error:0.19198\tvalidation_1-logloss:0.55844\tvalidation_1-error:0.19896\n",
      "[50]\tvalidation_0-logloss:0.55448\tvalidation_0-error:0.19154\tvalidation_1-logloss:0.55668\tvalidation_1-error:0.19839\n",
      "[51]\tvalidation_0-logloss:0.55268\tvalidation_0-error:0.19241\tvalidation_1-logloss:0.55492\tvalidation_1-error:0.19896\n",
      "[52]\tvalidation_0-logloss:0.55103\tvalidation_0-error:0.19313\tvalidation_1-logloss:0.55334\tvalidation_1-error:0.20184\n",
      "[53]\tvalidation_0-logloss:0.54936\tvalidation_0-error:0.19255\tvalidation_1-logloss:0.55166\tvalidation_1-error:0.19954\n",
      "[54]\tvalidation_0-logloss:0.54779\tvalidation_0-error:0.19269\tvalidation_1-logloss:0.55021\tvalidation_1-error:0.20299\n",
      "[55]\tvalidation_0-logloss:0.54608\tvalidation_0-error:0.19341\tvalidation_1-logloss:0.54852\tvalidation_1-error:0.20012\n",
      "[56]\tvalidation_0-logloss:0.54454\tvalidation_0-error:0.19269\tvalidation_1-logloss:0.54704\tvalidation_1-error:0.20414\n",
      "[57]\tvalidation_0-logloss:0.54291\tvalidation_0-error:0.19313\tvalidation_1-logloss:0.54543\tvalidation_1-error:0.20357\n",
      "[58]\tvalidation_0-logloss:0.54124\tvalidation_0-error:0.19356\tvalidation_1-logloss:0.54377\tvalidation_1-error:0.20184\n",
      "[59]\tvalidation_0-logloss:0.53961\tvalidation_0-error:0.19370\tvalidation_1-logloss:0.54222\tvalidation_1-error:0.20472\n",
      "[60]\tvalidation_0-logloss:0.53805\tvalidation_0-error:0.19399\tvalidation_1-logloss:0.54071\tvalidation_1-error:0.20012\n",
      "[61]\tvalidation_0-logloss:0.53642\tvalidation_0-error:0.19399\tvalidation_1-logloss:0.53913\tvalidation_1-error:0.20127\n",
      "[62]\tvalidation_0-logloss:0.53489\tvalidation_0-error:0.19341\tvalidation_1-logloss:0.53760\tvalidation_1-error:0.20357\n"
     ]
    },
    {
     "data": {
      "text/html": [
       "<style>#sk-container-id-3 {color: black;}#sk-container-id-3 pre{padding: 0;}#sk-container-id-3 div.sk-toggleable {background-color: white;}#sk-container-id-3 label.sk-toggleable__label {cursor: pointer;display: block;width: 100%;margin-bottom: 0;padding: 0.3em;box-sizing: border-box;text-align: center;}#sk-container-id-3 label.sk-toggleable__label-arrow:before {content: \"▸\";float: left;margin-right: 0.25em;color: #696969;}#sk-container-id-3 label.sk-toggleable__label-arrow:hover:before {color: black;}#sk-container-id-3 div.sk-estimator:hover label.sk-toggleable__label-arrow:before {color: black;}#sk-container-id-3 div.sk-toggleable__content {max-height: 0;max-width: 0;overflow: hidden;text-align: left;background-color: #f0f8ff;}#sk-container-id-3 div.sk-toggleable__content pre {margin: 0.2em;color: black;border-radius: 0.25em;background-color: #f0f8ff;}#sk-container-id-3 input.sk-toggleable__control:checked~div.sk-toggleable__content {max-height: 200px;max-width: 100%;overflow: auto;}#sk-container-id-3 input.sk-toggleable__control:checked~label.sk-toggleable__label-arrow:before {content: \"▾\";}#sk-container-id-3 div.sk-estimator input.sk-toggleable__control:checked~label.sk-toggleable__label {background-color: #d4ebff;}#sk-container-id-3 div.sk-label input.sk-toggleable__control:checked~label.sk-toggleable__label {background-color: #d4ebff;}#sk-container-id-3 input.sk-hidden--visually {border: 0;clip: rect(1px 1px 1px 1px);clip: rect(1px, 1px, 1px, 1px);height: 1px;margin: -1px;overflow: hidden;padding: 0;position: absolute;width: 1px;}#sk-container-id-3 div.sk-estimator {font-family: monospace;background-color: #f0f8ff;border: 1px dotted black;border-radius: 0.25em;box-sizing: border-box;margin-bottom: 0.5em;}#sk-container-id-3 div.sk-estimator:hover {background-color: #d4ebff;}#sk-container-id-3 div.sk-parallel-item::after {content: \"\";width: 100%;border-bottom: 1px solid gray;flex-grow: 1;}#sk-container-id-3 div.sk-label:hover label.sk-toggleable__label {background-color: #d4ebff;}#sk-container-id-3 div.sk-serial::before {content: \"\";position: absolute;border-left: 1px solid gray;box-sizing: border-box;top: 0;bottom: 0;left: 50%;z-index: 0;}#sk-container-id-3 div.sk-serial {display: flex;flex-direction: column;align-items: center;background-color: white;padding-right: 0.2em;padding-left: 0.2em;position: relative;}#sk-container-id-3 div.sk-item {position: relative;z-index: 1;}#sk-container-id-3 div.sk-parallel {display: flex;align-items: stretch;justify-content: center;background-color: white;position: relative;}#sk-container-id-3 div.sk-item::before, #sk-container-id-3 div.sk-parallel-item::before {content: \"\";position: absolute;border-left: 1px solid gray;box-sizing: border-box;top: 0;bottom: 0;left: 50%;z-index: -1;}#sk-container-id-3 div.sk-parallel-item {display: flex;flex-direction: column;z-index: 1;position: relative;background-color: white;}#sk-container-id-3 div.sk-parallel-item:first-child::after {align-self: flex-end;width: 50%;}#sk-container-id-3 div.sk-parallel-item:last-child::after {align-self: flex-start;width: 50%;}#sk-container-id-3 div.sk-parallel-item:only-child::after {width: 0;}#sk-container-id-3 div.sk-dashed-wrapped {border: 1px dashed gray;margin: 0 0.4em 0.5em 0.4em;box-sizing: border-box;padding-bottom: 0.4em;background-color: white;}#sk-container-id-3 div.sk-label label {font-family: monospace;font-weight: bold;display: inline-block;line-height: 1.2em;}#sk-container-id-3 div.sk-label-container {text-align: center;}#sk-container-id-3 div.sk-container {/* jupyter's `normalize.less` sets `[hidden] { display: none; }` but bootstrap.min.css set `[hidden] { display: none !important; }` so we also need the `!important` here to be able to override the default hidden behavior on the sphinx rendered scikit-learn.org. See: https://github.com/scikit-learn/scikit-learn/issues/21755 */display: inline-block !important;position: relative;}#sk-container-id-3 div.sk-text-repr-fallback {display: none;}</style><div id=\"sk-container-id-3\" class=\"sk-top-container\"><div class=\"sk-text-repr-fallback\"><pre>XGBClassifier(base_score=None, booster=None, callbacks=None,\n",
       "              colsample_bylevel=None, colsample_bynode=None,\n",
       "              colsample_bytree=0.9, device=None, early_stopping_rounds=20,\n",
       "              enable_categorical=False, eval_metric=[&#x27;logloss&#x27;, &#x27;error&#x27;],\n",
       "              feature_types=None, gamma=None, grow_policy=None,\n",
       "              importance_type=None, interaction_constraints=None,\n",
       "              learning_rate=0.01, max_bin=None, max_cat_threshold=None,\n",
       "              max_cat_to_onehot=None, max_delta_step=None, max_depth=5,\n",
       "              max_leaves=None, min_child_weight=None, missing=nan,\n",
       "              monotone_constraints=None, multi_strategy=None, n_estimators=500,\n",
       "              n_jobs=None, num_parallel_tree=None, random_state=42, ...)</pre><b>In a Jupyter environment, please rerun this cell to show the HTML representation or trust the notebook. <br />On GitHub, the HTML representation is unable to render, please try loading this page with nbviewer.org.</b></div><div class=\"sk-container\" hidden><div class=\"sk-item\"><div class=\"sk-estimator sk-toggleable\"><input class=\"sk-toggleable__control sk-hidden--visually\" id=\"sk-estimator-id-3\" type=\"checkbox\" checked><label for=\"sk-estimator-id-3\" class=\"sk-toggleable__label sk-toggleable__label-arrow\">XGBClassifier</label><div class=\"sk-toggleable__content\"><pre>XGBClassifier(base_score=None, booster=None, callbacks=None,\n",
       "              colsample_bylevel=None, colsample_bynode=None,\n",
       "              colsample_bytree=0.9, device=None, early_stopping_rounds=20,\n",
       "              enable_categorical=False, eval_metric=[&#x27;logloss&#x27;, &#x27;error&#x27;],\n",
       "              feature_types=None, gamma=None, grow_policy=None,\n",
       "              importance_type=None, interaction_constraints=None,\n",
       "              learning_rate=0.01, max_bin=None, max_cat_threshold=None,\n",
       "              max_cat_to_onehot=None, max_delta_step=None, max_depth=5,\n",
       "              max_leaves=None, min_child_weight=None, missing=nan,\n",
       "              monotone_constraints=None, multi_strategy=None, n_estimators=500,\n",
       "              n_jobs=None, num_parallel_tree=None, random_state=42, ...)</pre></div></div></div></div></div>"
      ],
      "text/plain": [
       "XGBClassifier(base_score=None, booster=None, callbacks=None,\n",
       "              colsample_bylevel=None, colsample_bynode=None,\n",
       "              colsample_bytree=0.9, device=None, early_stopping_rounds=20,\n",
       "              enable_categorical=False, eval_metric=['logloss', 'error'],\n",
       "              feature_types=None, gamma=None, grow_policy=None,\n",
       "              importance_type=None, interaction_constraints=None,\n",
       "              learning_rate=0.01, max_bin=None, max_cat_threshold=None,\n",
       "              max_cat_to_onehot=None, max_delta_step=None, max_depth=5,\n",
       "              max_leaves=None, min_child_weight=None, missing=nan,\n",
       "              monotone_constraints=None, multi_strategy=None, n_estimators=500,\n",
       "              n_jobs=None, num_parallel_tree=None, random_state=42, ...)"
      ]
     },
     "execution_count": 164,
     "metadata": {},
     "output_type": "execute_result"
    }
   ],
   "source": [
    "# Create and train the model\n",
    "model = xgb.XGBClassifier(**hyperparameters)\n",
    "\n",
    "# Fit with evaluation set\n",
    "model.fit(\n",
    "    X_train, \n",
    "    y_train,\n",
    "    eval_set=[(X_train, y_train), (X_val, y_val)],\n",
    "    verbose=True\n",
    ")"
   ]
  },
  {
   "cell_type": "code",
   "execution_count": 165,
   "metadata": {
    "scrolled": true
   },
   "outputs": [],
   "source": [
    "# Make predictions on validation set\n",
    "y_pred = model.predict(X_val)"
   ]
  },
  {
   "cell_type": "code",
   "execution_count": 166,
   "metadata": {},
   "outputs": [
    {
     "name": "stdout",
     "output_type": "stream",
     "text": [
      "\n",
      "Model Performance on Validation Set:\n",
      "====================================\n",
      "\n",
      "Classification Report:\n",
      "              precision    recall  f1-score   support\n",
      "\n",
      "       False       0.82      0.78      0.80       863\n",
      "        True       0.79      0.83      0.81       876\n",
      "\n",
      "    accuracy                           0.80      1739\n",
      "   macro avg       0.80      0.80      0.80      1739\n",
      "weighted avg       0.80      0.80      0.80      1739\n",
      "\n"
     ]
    }
   ],
   "source": [
    "from sklearn.metrics import accuracy_score, classification_report, confusion_matrix\n",
    "\n",
    "# Print model performance\n",
    "print(\"\\nModel Performance on Validation Set:\")\n",
    "print(\"====================================\")\n",
    "print(\"\\nClassification Report:\")\n",
    "print(classification_report(y_val, y_pred))"
   ]
  },
  {
   "cell_type": "code",
   "execution_count": 167,
   "metadata": {},
   "outputs": [
    {
     "name": "stdout",
     "output_type": "stream",
     "text": [
      "\n",
      "Confusion Matrix:\n",
      "[[671 192]\n",
      " [149 727]]\n"
     ]
    }
   ],
   "source": [
    "print(\"\\nConfusion Matrix:\")\n",
    "print(confusion_matrix(y_val, y_pred))\n"
   ]
  },
  {
   "cell_type": "code",
   "execution_count": 168,
   "metadata": {},
   "outputs": [
    {
     "name": "stdout",
     "output_type": "stream",
     "text": [
      "\n",
      "Accuracy Score: 0.8039102932719954\n"
     ]
    }
   ],
   "source": [
    "print(\"\\nAccuracy Score:\", accuracy_score(y_val, y_pred))\n"
   ]
  },
  {
   "cell_type": "code",
   "execution_count": 169,
   "metadata": {},
   "outputs": [
    {
     "name": "stdout",
     "output_type": "stream",
     "text": [
      "                      feature  importance\n",
      "0                   CryoSleep    0.605508\n",
      "8            HomePlanet_Earth    0.066403\n",
      "3                 RoomService    0.058382\n",
      "7                      VRDeck    0.051094\n",
      "6                         Spa    0.040616\n",
      "20                     Deck_G    0.032587\n",
      "4                   FoodCourt    0.025738\n",
      "9           HomePlanet_Europa    0.021246\n",
      "18                     Deck_E    0.020713\n",
      "5                ShoppingMall    0.019461\n",
      "19                     Deck_F    0.008879\n",
      "10            HomePlanet_Mars    0.008573\n",
      "1                         Age    0.006639\n",
      "22                     Side_P    0.005046\n",
      "23                     Side_S    0.004962\n",
      "16                     Deck_C    0.004941\n",
      "13    Destination_TRAPPIST-1e    0.004181\n",
      "17                     Deck_D    0.003748\n",
      "15                     Deck_B    0.003190\n",
      "11    Destination_55 Cancri e    0.002709\n",
      "2                         VIP    0.002036\n",
      "14                     Deck_A    0.001812\n",
      "12  Destination_PSO J318.5-22    0.001536\n",
      "21                     Deck_T    0.000000\n"
     ]
    }
   ],
   "source": [
    "import seaborn as sns\n",
    "# Feature importance visualization\n",
    "feature_importance = pd.DataFrame({\n",
    "    'feature': X.columns,\n",
    "    'importance': model.feature_importances_\n",
    "})\n",
    "feature_importance = feature_importance.sort_values('importance', ascending=False)\n",
    "\n",
    "# # Plot feature importance\n",
    "# plt.figure(figsize=(12, 6))\n",
    "# sns.barplot(x='importance', y='feature', data=feature_importance)\n",
    "# plt.title('Feature Importance')\n",
    "# plt.xlabel('Importance Score')\n",
    "# plt.ylabel('Features')\n",
    "# plt.tight_layout()\n",
    "# plt.show()\n",
    "print(feature_importance)"
   ]
  },
  {
   "cell_type": "code",
   "execution_count": 170,
   "metadata": {},
   "outputs": [],
   "source": [
    "# Make predictions on test set\n",
    "test_predictions = model.predict(X_test)"
   ]
  },
  {
   "cell_type": "code",
   "execution_count": 171,
   "metadata": {},
   "outputs": [
    {
     "data": {
      "text/html": [
       "<div>\n",
       "<style scoped>\n",
       "    .dataframe tbody tr th:only-of-type {\n",
       "        vertical-align: middle;\n",
       "    }\n",
       "\n",
       "    .dataframe tbody tr th {\n",
       "        vertical-align: top;\n",
       "    }\n",
       "\n",
       "    .dataframe thead th {\n",
       "        text-align: right;\n",
       "    }\n",
       "</style>\n",
       "<table border=\"1\" class=\"dataframe\">\n",
       "  <thead>\n",
       "    <tr style=\"text-align: right;\">\n",
       "      <th></th>\n",
       "      <th>CryoSleep</th>\n",
       "      <th>Age</th>\n",
       "      <th>VIP</th>\n",
       "      <th>RoomService</th>\n",
       "      <th>FoodCourt</th>\n",
       "      <th>ShoppingMall</th>\n",
       "      <th>Spa</th>\n",
       "      <th>VRDeck</th>\n",
       "      <th>HomePlanet_Earth</th>\n",
       "      <th>HomePlanet_Europa</th>\n",
       "      <th>...</th>\n",
       "      <th>Deck_A</th>\n",
       "      <th>Deck_B</th>\n",
       "      <th>Deck_C</th>\n",
       "      <th>Deck_D</th>\n",
       "      <th>Deck_E</th>\n",
       "      <th>Deck_F</th>\n",
       "      <th>Deck_G</th>\n",
       "      <th>Deck_T</th>\n",
       "      <th>Side_P</th>\n",
       "      <th>Side_S</th>\n",
       "    </tr>\n",
       "  </thead>\n",
       "  <tbody>\n",
       "    <tr>\n",
       "      <th>0</th>\n",
       "      <td>-0.73277</td>\n",
       "      <td>0.711945</td>\n",
       "      <td>-0.153063</td>\n",
       "      <td>-0.333105</td>\n",
       "      <td>-0.281027</td>\n",
       "      <td>0.0</td>\n",
       "      <td>-0.270626</td>\n",
       "      <td>-0.263003</td>\n",
       "      <td>0.0</td>\n",
       "      <td>1.0</td>\n",
       "      <td>...</td>\n",
       "      <td>0.0</td>\n",
       "      <td>1.0</td>\n",
       "      <td>0.0</td>\n",
       "      <td>0.0</td>\n",
       "      <td>0.0</td>\n",
       "      <td>0.0</td>\n",
       "      <td>0.0</td>\n",
       "      <td>0.0</td>\n",
       "      <td>1.0</td>\n",
       "      <td>0.0</td>\n",
       "    </tr>\n",
       "    <tr>\n",
       "      <th>1</th>\n",
       "      <td>-0.73277</td>\n",
       "      <td>-0.334037</td>\n",
       "      <td>-0.153063</td>\n",
       "      <td>-0.168073</td>\n",
       "      <td>-0.275387</td>\n",
       "      <td>25.0</td>\n",
       "      <td>0.217158</td>\n",
       "      <td>-0.224205</td>\n",
       "      <td>1.0</td>\n",
       "      <td>0.0</td>\n",
       "      <td>...</td>\n",
       "      <td>0.0</td>\n",
       "      <td>0.0</td>\n",
       "      <td>0.0</td>\n",
       "      <td>0.0</td>\n",
       "      <td>0.0</td>\n",
       "      <td>1.0</td>\n",
       "      <td>0.0</td>\n",
       "      <td>0.0</td>\n",
       "      <td>0.0</td>\n",
       "      <td>1.0</td>\n",
       "    </tr>\n",
       "    <tr>\n",
       "      <th>2</th>\n",
       "      <td>-0.73277</td>\n",
       "      <td>2.036857</td>\n",
       "      <td>6.533255</td>\n",
       "      <td>-0.268001</td>\n",
       "      <td>1.959998</td>\n",
       "      <td>0.0</td>\n",
       "      <td>5.695623</td>\n",
       "      <td>-0.219796</td>\n",
       "      <td>0.0</td>\n",
       "      <td>1.0</td>\n",
       "      <td>...</td>\n",
       "      <td>1.0</td>\n",
       "      <td>0.0</td>\n",
       "      <td>0.0</td>\n",
       "      <td>0.0</td>\n",
       "      <td>0.0</td>\n",
       "      <td>0.0</td>\n",
       "      <td>0.0</td>\n",
       "      <td>0.0</td>\n",
       "      <td>0.0</td>\n",
       "      <td>1.0</td>\n",
       "    </tr>\n",
       "    <tr>\n",
       "      <th>3</th>\n",
       "      <td>-0.73277</td>\n",
       "      <td>0.293552</td>\n",
       "      <td>-0.153063</td>\n",
       "      <td>-0.333105</td>\n",
       "      <td>0.523010</td>\n",
       "      <td>371.0</td>\n",
       "      <td>2.687176</td>\n",
       "      <td>-0.092818</td>\n",
       "      <td>0.0</td>\n",
       "      <td>1.0</td>\n",
       "      <td>...</td>\n",
       "      <td>1.0</td>\n",
       "      <td>0.0</td>\n",
       "      <td>0.0</td>\n",
       "      <td>0.0</td>\n",
       "      <td>0.0</td>\n",
       "      <td>0.0</td>\n",
       "      <td>0.0</td>\n",
       "      <td>0.0</td>\n",
       "      <td>0.0</td>\n",
       "      <td>1.0</td>\n",
       "    </tr>\n",
       "    <tr>\n",
       "      <th>4</th>\n",
       "      <td>-0.73277</td>\n",
       "      <td>-0.891895</td>\n",
       "      <td>-0.153063</td>\n",
       "      <td>0.125652</td>\n",
       "      <td>-0.237159</td>\n",
       "      <td>151.0</td>\n",
       "      <td>0.231374</td>\n",
       "      <td>-0.261240</td>\n",
       "      <td>1.0</td>\n",
       "      <td>0.0</td>\n",
       "      <td>...</td>\n",
       "      <td>0.0</td>\n",
       "      <td>0.0</td>\n",
       "      <td>0.0</td>\n",
       "      <td>0.0</td>\n",
       "      <td>0.0</td>\n",
       "      <td>1.0</td>\n",
       "      <td>0.0</td>\n",
       "      <td>0.0</td>\n",
       "      <td>0.0</td>\n",
       "      <td>1.0</td>\n",
       "    </tr>\n",
       "  </tbody>\n",
       "</table>\n",
       "<p>5 rows × 24 columns</p>\n",
       "</div>"
      ],
      "text/plain": [
       "   CryoSleep       Age       VIP  RoomService  FoodCourt  ShoppingMall  \\\n",
       "0   -0.73277  0.711945 -0.153063    -0.333105  -0.281027           0.0   \n",
       "1   -0.73277 -0.334037 -0.153063    -0.168073  -0.275387          25.0   \n",
       "2   -0.73277  2.036857  6.533255    -0.268001   1.959998           0.0   \n",
       "3   -0.73277  0.293552 -0.153063    -0.333105   0.523010         371.0   \n",
       "4   -0.73277 -0.891895 -0.153063     0.125652  -0.237159         151.0   \n",
       "\n",
       "        Spa    VRDeck  HomePlanet_Earth  HomePlanet_Europa  ...  Deck_A  \\\n",
       "0 -0.270626 -0.263003               0.0                1.0  ...     0.0   \n",
       "1  0.217158 -0.224205               1.0                0.0  ...     0.0   \n",
       "2  5.695623 -0.219796               0.0                1.0  ...     1.0   \n",
       "3  2.687176 -0.092818               0.0                1.0  ...     1.0   \n",
       "4  0.231374 -0.261240               1.0                0.0  ...     0.0   \n",
       "\n",
       "   Deck_B  Deck_C  Deck_D  Deck_E  Deck_F  Deck_G  Deck_T  Side_P  Side_S  \n",
       "0     1.0     0.0     0.0     0.0     0.0     0.0     0.0     1.0     0.0  \n",
       "1     0.0     0.0     0.0     0.0     1.0     0.0     0.0     0.0     1.0  \n",
       "2     0.0     0.0     0.0     0.0     0.0     0.0     0.0     0.0     1.0  \n",
       "3     0.0     0.0     0.0     0.0     0.0     0.0     0.0     0.0     1.0  \n",
       "4     0.0     0.0     0.0     0.0     1.0     0.0     0.0     0.0     1.0  \n",
       "\n",
       "[5 rows x 24 columns]"
      ]
     },
     "execution_count": 171,
     "metadata": {},
     "output_type": "execute_result"
    }
   ],
   "source": [
    "X.head()"
   ]
  },
  {
   "cell_type": "code",
   "execution_count": 172,
   "metadata": {},
   "outputs": [],
   "source": [
    "# Create submission file with correct format\n",
    "submission = pd.DataFrame({\n",
    "    'PassengerId': test_ids,\n",
    "    'Transported': test_predictions.astype(bool)  # Convert to boolean as per submission format\n",
    "})"
   ]
  },
  {
   "cell_type": "code",
   "execution_count": 173,
   "metadata": {},
   "outputs": [],
   "source": [
    "# Save processed training data with target\n",
    "df_train_processed_with_target = X.copy()\n",
    "df_train_processed_with_target['Transported'] = y\n"
   ]
  },
  {
   "cell_type": "code",
   "execution_count": 174,
   "metadata": {},
   "outputs": [],
   "source": [
    "df_train_processed_with_target.to_csv(f'data-out/train-processed-{current_date}.csv', index=False)"
   ]
  },
  {
   "cell_type": "code",
   "execution_count": 175,
   "metadata": {},
   "outputs": [],
   "source": [
    "#df_train_processed_with_target.to_csv(f'data-out/train-processed-{current_date}.csv', index=False)\n",
    "\n",
    "# Save processed test data\n",
    "X_test.to_csv(f'data-out/test-processed-{current_date}.csv', index=False)\n"
   ]
  },
  {
   "cell_type": "code",
   "execution_count": 176,
   "metadata": {},
   "outputs": [
    {
     "name": "stdout",
     "output_type": "stream",
     "text": [
      "Saved submission to: data-out/predictions-2024-12-26.csv\n"
     ]
    }
   ],
   "source": [
    "# Save submission file\n",
    "submission.to_csv(f'data-out/predictions-{current_date}.csv', index=False)\n",
    "print(f\"Saved submission to: data-out/predictions-{current_date}.csv\")\n"
   ]
  },
  {
   "cell_type": "code",
   "execution_count": 177,
   "metadata": {},
   "outputs": [
    {
     "name": "stdout",
     "output_type": "stream",
     "text": [
      "\n",
      "Submission Format Verification:\n",
      "Shape: (4277, 2)\n",
      "\n",
      "First few rows:\n",
      "  PassengerId  Transported\n",
      "0     0013_01         True\n",
      "1     0018_01        False\n",
      "2     0019_01         True\n",
      "3     0021_01         True\n",
      "4     0023_01         True\n",
      "\n",
      "Value counts for Transported:\n",
      "Transported\n",
      "True     0.546177\n",
      "False    0.453823\n",
      "Name: proportion, dtype: float64\n",
      "\n",
      "Top 10 most important features:\n",
      "              feature  importance\n",
      "0           CryoSleep    0.605508\n",
      "8    HomePlanet_Earth    0.066403\n",
      "3         RoomService    0.058382\n",
      "7              VRDeck    0.051094\n",
      "6                 Spa    0.040616\n",
      "20             Deck_G    0.032587\n",
      "4           FoodCourt    0.025738\n",
      "9   HomePlanet_Europa    0.021246\n",
      "18             Deck_E    0.020713\n",
      "5        ShoppingMall    0.019461\n"
     ]
    }
   ],
   "source": [
    "# Print submission format verification\n",
    "print(\"\\nSubmission Format Verification:\")\n",
    "print(\"Shape:\", submission.shape)\n",
    "print(\"\\nFirst few rows:\")\n",
    "print(submission.head())\n",
    "print(\"\\nValue counts for Transported:\")\n",
    "print(submission['Transported'].value_counts(normalize=True))\n",
    "\n",
    "# Print feature importance summary\n",
    "print(\"\\nTop 10 most important features:\")\n",
    "print(feature_importance.head(10))\n",
    "\n",
    "# Optional: Save feature importance\n",
    "feature_importance.to_csv(f'data-out/feature_importance-{current_date}.csv', index=False)\n"
   ]
  },
  {
   "cell_type": "code",
   "execution_count": 178,
   "metadata": {},
   "outputs": [
    {
     "name": "stdout",
     "output_type": "stream",
     "text": [
      "\n",
      "Top 10 most important features:\n",
      "              feature  importance\n",
      "0           CryoSleep    0.605508\n",
      "8    HomePlanet_Earth    0.066403\n",
      "3         RoomService    0.058382\n",
      "7              VRDeck    0.051094\n",
      "6                 Spa    0.040616\n",
      "20             Deck_G    0.032587\n",
      "4           FoodCourt    0.025738\n",
      "9   HomePlanet_Europa    0.021246\n",
      "18             Deck_E    0.020713\n",
      "5        ShoppingMall    0.019461\n"
     ]
    }
   ],
   "source": [
    "# Optional: Feature importance\n",
    "feature_importance = pd.DataFrame({\n",
    "    'feature': X.columns,\n",
    "    'importance': model.feature_importances_\n",
    "}).sort_values('importance', ascending=False)\n",
    "\n",
    "print(\"\\nTop 10 most important features:\")\n",
    "print(feature_importance.head(10))"
   ]
  },
  {
   "cell_type": "code",
   "execution_count": null,
   "metadata": {},
   "outputs": [],
   "source": []
  },
  {
   "cell_type": "code",
   "execution_count": null,
   "metadata": {},
   "outputs": [],
   "source": []
  },
  {
   "cell_type": "code",
   "execution_count": null,
   "metadata": {},
   "outputs": [],
   "source": []
  }
 ],
 "metadata": {
  "kernelspec": {
   "display_name": "Python 3",
   "language": "python",
   "name": "python3"
  },
  "language_info": {
   "codemirror_mode": {
    "name": "ipython",
    "version": 3
   },
   "file_extension": ".py",
   "mimetype": "text/x-python",
   "name": "python",
   "nbconvert_exporter": "python",
   "pygments_lexer": "ipython3",
   "version": "3.8.10"
  }
 },
 "nbformat": 4,
 "nbformat_minor": 1
}
